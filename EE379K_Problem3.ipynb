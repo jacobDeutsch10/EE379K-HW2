{
  "nbformat": 4,
  "nbformat_minor": 0,
  "metadata": {
    "colab": {
      "name": "EE379K_Problem3.ipynb",
      "provenance": [],
      "collapsed_sections": []
    },
    "kernelspec": {
      "name": "python3",
      "display_name": "Python 3"
    },
    "accelerator": "GPU"
  },
  "cells": [
    {
      "cell_type": "code",
      "metadata": {
        "colab": {
          "base_uri": "https://localhost:8080/",
          "height": 194
        },
        "id": "yKc57Sc9eNT3",
        "outputId": "20605b62-0b99-4686-f745-458cf56d2a45"
      },
      "source": [
        "import pandas as pd\n",
        "\n",
        "data = pd.read_csv(\"xu3_dataset.csv\") \n",
        "data_blackscholes = pd.read_csv(\"xu3_blackscholes.csv\")\n",
        "data_bodytrack = pd.read_csv(\"xu3_bodytrack.csv\")\n",
        "data.head()"
      ],
      "execution_count": null,
      "outputs": [
        {
          "output_type": "execute_result",
          "data": {
            "text/html": [
              "<div>\n",
              "<style scoped>\n",
              "    .dataframe tbody tr th:only-of-type {\n",
              "        vertical-align: middle;\n",
              "    }\n",
              "\n",
              "    .dataframe tbody tr th {\n",
              "        vertical-align: top;\n",
              "    }\n",
              "\n",
              "    .dataframe thead th {\n",
              "        text-align: right;\n",
              "    }\n",
              "</style>\n",
              "<table border=\"1\" class=\"dataframe\">\n",
              "  <thead>\n",
              "    <tr style=\"text-align: right;\">\n",
              "      <th></th>\n",
              "      <th>total_watts</th>\n",
              "      <th>w_big</th>\n",
              "      <th>w_little</th>\n",
              "      <th>w_gpu</th>\n",
              "      <th>w_mem</th>\n",
              "      <th>usage_c4</th>\n",
              "      <th>usage_c5</th>\n",
              "      <th>usage_c6</th>\n",
              "      <th>usage_c7</th>\n",
              "      <th>temp4</th>\n",
              "      <th>temp5</th>\n",
              "      <th>temp6</th>\n",
              "      <th>temp7</th>\n",
              "      <th>temp_gpu</th>\n",
              "      <th>freq_big_cluster</th>\n",
              "    </tr>\n",
              "  </thead>\n",
              "  <tbody>\n",
              "    <tr>\n",
              "      <th>0</th>\n",
              "      <td>3.065</td>\n",
              "      <td>0.474810</td>\n",
              "      <td>0.033012</td>\n",
              "      <td>0.096321</td>\n",
              "      <td>0.048800</td>\n",
              "      <td>0.0</td>\n",
              "      <td>0.0</td>\n",
              "      <td>0.0</td>\n",
              "      <td>0.0</td>\n",
              "      <td>49</td>\n",
              "      <td>53</td>\n",
              "      <td>52</td>\n",
              "      <td>48</td>\n",
              "      <td>47</td>\n",
              "      <td>1000000000</td>\n",
              "    </tr>\n",
              "    <tr>\n",
              "      <th>1</th>\n",
              "      <td>2.706</td>\n",
              "      <td>0.235620</td>\n",
              "      <td>0.032095</td>\n",
              "      <td>0.096515</td>\n",
              "      <td>0.032940</td>\n",
              "      <td>0.0</td>\n",
              "      <td>0.0</td>\n",
              "      <td>0.0</td>\n",
              "      <td>0.0</td>\n",
              "      <td>48</td>\n",
              "      <td>52</td>\n",
              "      <td>52</td>\n",
              "      <td>48</td>\n",
              "      <td>47</td>\n",
              "      <td>1000000000</td>\n",
              "    </tr>\n",
              "    <tr>\n",
              "      <th>2</th>\n",
              "      <td>2.706</td>\n",
              "      <td>0.235620</td>\n",
              "      <td>0.034846</td>\n",
              "      <td>0.096515</td>\n",
              "      <td>0.032940</td>\n",
              "      <td>0.0</td>\n",
              "      <td>0.0</td>\n",
              "      <td>0.0</td>\n",
              "      <td>0.0</td>\n",
              "      <td>48</td>\n",
              "      <td>52</td>\n",
              "      <td>52</td>\n",
              "      <td>48</td>\n",
              "      <td>47</td>\n",
              "      <td>1000000000</td>\n",
              "    </tr>\n",
              "    <tr>\n",
              "      <th>3</th>\n",
              "      <td>2.637</td>\n",
              "      <td>0.234685</td>\n",
              "      <td>0.034846</td>\n",
              "      <td>0.096321</td>\n",
              "      <td>0.037758</td>\n",
              "      <td>0.0</td>\n",
              "      <td>0.0</td>\n",
              "      <td>0.0</td>\n",
              "      <td>0.0</td>\n",
              "      <td>48</td>\n",
              "      <td>51</td>\n",
              "      <td>51</td>\n",
              "      <td>48</td>\n",
              "      <td>47</td>\n",
              "      <td>1000000000</td>\n",
              "    </tr>\n",
              "    <tr>\n",
              "      <th>4</th>\n",
              "      <td>2.637</td>\n",
              "      <td>0.233750</td>\n",
              "      <td>0.033929</td>\n",
              "      <td>0.096321</td>\n",
              "      <td>0.032886</td>\n",
              "      <td>0.0</td>\n",
              "      <td>0.0</td>\n",
              "      <td>0.0</td>\n",
              "      <td>0.0</td>\n",
              "      <td>48</td>\n",
              "      <td>51</td>\n",
              "      <td>51</td>\n",
              "      <td>48</td>\n",
              "      <td>47</td>\n",
              "      <td>1000000000</td>\n",
              "    </tr>\n",
              "  </tbody>\n",
              "</table>\n",
              "</div>"
            ],
            "text/plain": [
              "   total_watts     w_big  w_little  ...  temp7  temp_gpu  freq_big_cluster\n",
              "0        3.065  0.474810  0.033012  ...     48        47        1000000000\n",
              "1        2.706  0.235620  0.032095  ...     48        47        1000000000\n",
              "2        2.706  0.235620  0.034846  ...     48        47        1000000000\n",
              "3        2.637  0.234685  0.034846  ...     48        47        1000000000\n",
              "4        2.637  0.233750  0.033929  ...     48        47        1000000000\n",
              "\n",
              "[5 rows x 15 columns]"
            ]
          },
          "metadata": {
            "tags": []
          },
          "execution_count": 24
        }
      ]
    },
    {
      "cell_type": "code",
      "metadata": {
        "id": "-6p4eh6PgWz6"
      },
      "source": [
        "train_X = data[['temp4','temp5','temp6','temp7']]\n",
        "train_X = train_X.drop([len(train_X)-1])    #drop last row since there is nothing to predict\n",
        "temp4_Y = data[['temp4']]\n",
        "temp5_Y = data[['temp5']]\n",
        "temp6_Y = data[['temp6']]\n",
        "temp7_Y = data[['temp7']]\n",
        "#drop first temperature value since it cannot be predicted\n",
        "temp4_Y = temp4_Y.drop(0)\n",
        "temp5_Y = temp5_Y.drop(0)\n",
        "temp6_Y = temp6_Y.drop(0)\n",
        "temp7_Y = temp7_Y.drop(0)"
      ],
      "execution_count": null,
      "outputs": []
    },
    {
      "cell_type": "code",
      "metadata": {
        "colab": {
          "base_uri": "https://localhost:8080/"
        },
        "id": "5mnEatuRhURl",
        "outputId": "96e3052b-11bd-4360-9ef9-d8e9b3d3c0f8"
      },
      "source": [
        "from sklearn.neural_network import MLPRegressor\n",
        "#Four regressors for each core\n",
        "model_1 = MLPRegressor(hidden_layer_sizes = (100, 60, 30), activation = 'relu', random_state = 0)\n",
        "model_2 = MLPRegressor(hidden_layer_sizes = (100, 60, 30), activation = 'relu', random_state = 0)\n",
        "model_3 = MLPRegressor(hidden_layer_sizes = (100, 60, 30), activation = 'relu', random_state = 0)\n",
        "model_4 = MLPRegressor(hidden_layer_sizes = (100, 60, 30), activation = 'relu', random_state = 0)\n",
        "model_1.fit(train_X,temp4_Y)\n",
        "model_2.fit(train_X,temp5_Y)\n",
        "model_3.fit(train_X,temp6_Y)\n",
        "model_4.fit(train_X,temp7_Y)\n",
        "\n"
      ],
      "execution_count": null,
      "outputs": [
        {
          "output_type": "stream",
          "text": [
            "/usr/local/lib/python3.7/dist-packages/sklearn/neural_network/_multilayer_perceptron.py:1342: DataConversionWarning: A column-vector y was passed when a 1d array was expected. Please change the shape of y to (n_samples, ), for example using ravel().\n",
            "  y = column_or_1d(y, warn=True)\n",
            "/usr/local/lib/python3.7/dist-packages/sklearn/neural_network/_multilayer_perceptron.py:1342: DataConversionWarning: A column-vector y was passed when a 1d array was expected. Please change the shape of y to (n_samples, ), for example using ravel().\n",
            "  y = column_or_1d(y, warn=True)\n",
            "/usr/local/lib/python3.7/dist-packages/sklearn/neural_network/_multilayer_perceptron.py:1342: DataConversionWarning: A column-vector y was passed when a 1d array was expected. Please change the shape of y to (n_samples, ), for example using ravel().\n",
            "  y = column_or_1d(y, warn=True)\n",
            "/usr/local/lib/python3.7/dist-packages/sklearn/neural_network/_multilayer_perceptron.py:1342: DataConversionWarning: A column-vector y was passed when a 1d array was expected. Please change the shape of y to (n_samples, ), for example using ravel().\n",
            "  y = column_or_1d(y, warn=True)\n"
          ],
          "name": "stderr"
        },
        {
          "output_type": "execute_result",
          "data": {
            "text/plain": [
              "MLPRegressor(activation='relu', alpha=0.0001, batch_size='auto', beta_1=0.9,\n",
              "             beta_2=0.999, early_stopping=False, epsilon=1e-08,\n",
              "             hidden_layer_sizes=(100, 60, 30), learning_rate='constant',\n",
              "             learning_rate_init=0.001, max_fun=15000, max_iter=200,\n",
              "             momentum=0.9, n_iter_no_change=10, nesterovs_momentum=True,\n",
              "             power_t=0.5, random_state=0, shuffle=True, solver='adam',\n",
              "             tol=0.0001, validation_fraction=0.1, verbose=False,\n",
              "             warm_start=False)"
            ]
          },
          "metadata": {
            "tags": []
          },
          "execution_count": 26
        }
      ]
    },
    {
      "cell_type": "code",
      "metadata": {
        "id": "4fEgQnBnfeNf"
      },
      "source": [
        "from sklearn.metrics import mean_squared_error\n",
        "import numpy as np\n",
        "\n",
        "data_blackscholes.head()\n",
        "test_blackscholes_X = data_blackscholes[['temp4','temp5','temp6','temp7']]\n",
        "test_bodytrack_X = data_bodytrack[['temp4','temp5','temp6','temp7']]"
      ],
      "execution_count": null,
      "outputs": []
    },
    {
      "cell_type": "code",
      "metadata": {
        "id": "3MGN9aDjH7B4",
        "colab": {
          "base_uri": "https://localhost:8080/"
        },
        "outputId": "02311dda-2422-4bf3-d627-3a55659abbef"
      },
      "source": [
        "from sklearn.metrics import mean_squared_error\n",
        "blk_tmp4 = data_blackscholes[[\"temp4\"]]\n",
        "blk_tmp4 = blk_tmp4.drop(0)\n",
        "blk_tmp5 = data_blackscholes[[\"temp5\"]]\n",
        "blk_tmp5 = blk_tmp5.drop(0)\n",
        "blk_tmp6 = data_blackscholes[[\"temp6\"]]\n",
        "blk_tmp6 = blk_tmp6.drop(0)\n",
        "blk_tmp7 = data_blackscholes[[\"temp7\"]]\n",
        "blk_tmp7 = blk_tmp7.drop(0)\n",
        "\n",
        "bdy_tmp4 = data_bodytrack[[\"temp4\"]]\n",
        "bdy_tmp4 = bdy_tmp4.drop(0)\n",
        "bdy_tmp5 = data_bodytrack[[\"temp5\"]]\n",
        "bdy_tmp5 = bdy_tmp5.drop(0)\n",
        "bdy_tmp6 = data_bodytrack[[\"temp6\"]]\n",
        "bdy_tmp6 = bdy_tmp6.drop(0)\n",
        "bdy_tmp7 = data_bodytrack[[\"temp7\"]]\n",
        "bdy_tmp7 = bdy_tmp7.drop(0)\n",
        "\n",
        "test_bodytrack_X = test_bodytrack_X.drop([len(test_bodytrack_X)-1])\n",
        "test_blackscholes_X = test_blackscholes_X.drop([len(test_blackscholes_X)-1])\n",
        "\n",
        "blk4_pred = model_1.predict(test_blackscholes_X)\n",
        "blk5_pred = model_2.predict(test_blackscholes_X)\n",
        "blk6_pred = model_3.predict(test_blackscholes_X)\n",
        "blk7_pred = model_4.predict(test_blackscholes_X)\n",
        "\n",
        "bdy4_pred = model_1.predict(test_bodytrack_X)\n",
        "bdy5_pred = model_2.predict(test_bodytrack_X)\n",
        "bdy6_pred = model_3.predict(test_bodytrack_X)\n",
        "bdy7_pred = model_4.predict(test_bodytrack_X)\n",
        "\n",
        "blk4_mse = mean_squared_error(blk_tmp4,blk4_pred)\n",
        "blk5_mse = mean_squared_error(blk_tmp5,blk5_pred)\n",
        "blk6_mse = mean_squared_error(blk_tmp6,blk6_pred)\n",
        "blk7_mse = mean_squared_error(blk_tmp7,blk7_pred)\n",
        "\n",
        "bdy4_mse = mean_squared_error(bdy_tmp4,bdy4_pred)\n",
        "bdy5_mse = mean_squared_error(bdy_tmp5,bdy5_pred)\n",
        "bdy6_mse = mean_squared_error(bdy_tmp6,bdy6_pred)\n",
        "bdy7_mse = mean_squared_error(bdy_tmp7,bdy7_pred)\n",
        "\n",
        "print(blk4_mse,blk5_mse,blk6_mse,blk7_mse)\n",
        "print(bdy4_mse,bdy5_mse,bdy6_mse,bdy7_mse)\n",
        "\n"
      ],
      "execution_count": null,
      "outputs": [
        {
          "output_type": "stream",
          "text": [
            "0.15376662457196266 0.3220482476119574 0.1896223303756489 0.11576752903213844\n",
            "1.4208547649285856 1.4014931166414046 1.408207076135013 0.7359544787345029\n"
          ],
          "name": "stdout"
        }
      ]
    },
    {
      "cell_type": "code",
      "metadata": {
        "colab": {
          "base_uri": "https://localhost:8080/",
          "height": 295
        },
        "id": "M6x5njRfLaIH",
        "outputId": "96ab1e4b-f8cc-4141-dd36-ba3b012b1a03"
      },
      "source": [
        "import matplotlib.pyplot as plt\r\n",
        "\r\n",
        "plt.plot(np.arange(len(blk_tmp4)),blk_tmp4,'r',label='Predicted Core 4 Temperatures')\r\n",
        "plt.plot(np.arange(len(blk4_pred)),blk4_pred,'b',label = 'Measured Core 4 Temperatures')\r\n",
        "plt.title(\"Predictions on blackscholes data\")\r\n",
        "plt.xlabel('Timestep')\r\n",
        "plt.ylabel('Temperature')\r\n",
        "plt.legend()\r\n",
        "plt.show()"
      ],
      "execution_count": null,
      "outputs": [
        {
          "output_type": "display_data",
          "data": {
            "image/png": "[encoded data removed]",
            "text/plain": [
              "<Figure size 432x288 with 1 Axes>"
            ]
          },
          "metadata": {
            "tags": [],
            "needs_background": "light"
          }
        }
      ]
    },
    {
      "cell_type": "code",
      "metadata": {
        "colab": {
          "base_uri": "https://localhost:8080/",
          "height": 295
        },
        "id": "ygl9qwYqMKBO",
        "outputId": "ab7c3c6c-0274-4abc-865c-d993dc8a2a3a"
      },
      "source": [
        "plt.plot(np.arange(len(bdy_tmp4)),bdy_tmp4,'r',label='Predicted Core 4 Temperatures')\r\n",
        "plt.plot(np.arange(len(bdy4_pred)),bdy4_pred,'b',label = 'Measured Core 4 Temperatures')\r\n",
        "plt.title(\"Predictions on bodytrack data\")\r\n",
        "plt.xlabel('Timestep')\r\n",
        "plt.ylabel('Temperature')\r\n",
        "plt.legend()\r\n",
        "plt.show()"
      ],
      "execution_count": null,
      "outputs": [
        {
          "output_type": "display_data",
          "data": {
            "image/png": "[encoded data removed]",
            "text/plain": [
              "<Figure size 432x288 with 1 Axes>"
            ]
          },
          "metadata": {
            "tags": [],
            "needs_background": "light"
          }
        }
      ]
    }
  ]
}